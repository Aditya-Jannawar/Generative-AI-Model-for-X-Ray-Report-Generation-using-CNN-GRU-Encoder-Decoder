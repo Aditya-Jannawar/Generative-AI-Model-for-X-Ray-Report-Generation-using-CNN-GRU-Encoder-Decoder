{
 "cells": [
  {
   "cell_type": "code",
   "execution_count": 4,
   "metadata": {},
   "outputs": [],
   "source": [
    "import numpy as np\n",
    "import pandas as pd\n",
    "import matplotlib.pyplot as plt\n",
    "import seaborn as sns\n",
    "from tqdm import tqdm\n",
    "import tensorflow as tf\n",
    "import cv2\n",
    "import pickle\n",
    "from tensorflow.keras.preprocessing.text import Tokenizer\n",
    "from tensorflow.keras.preprocessing.sequence import pad_sequences\n",
    "from sklearn.model_selection import train_test_split\n",
    "import time\n",
    "from tensorflow.keras.models import Model\n",
    "from tensorflow.keras.layers import Dense, LSTM, Input, Embedding, Conv2D, Concatenate, Flatten, Add, Dropout, GRU\n",
    "import random\n",
    "import datetime\n",
    "from nltk.translate.bleu_score import sentence_bleu"
   ]
  },
  {
   "cell_type": "code",
   "execution_count": 5,
   "metadata": {},
   "outputs": [],
   "source": [
    "import warnings\n",
    "warnings.filterwarnings('ignore')"
   ]
  },
  {
   "cell_type": "code",
   "execution_count": 6,
   "metadata": {},
   "outputs": [],
   "source": [
    "train_dataset = pd.read_csv('Train_Data.csv')\n",
    "test_dataset = pd.read_csv('Test_Data.csv')\n",
    "cv_dataset = pd.read_csv('CV_Data.csv')"
   ]
  },
  {
   "cell_type": "code",
   "execution_count": 7,
   "metadata": {},
   "outputs": [
    {
     "data": {
      "text/plain": [
       "((2758, 4), (399, 4), (550, 4))"
      ]
     },
     "execution_count": 7,
     "metadata": {},
     "output_type": "execute_result"
    }
   ],
   "source": [
    "train_dataset.shape, test_dataset.shape, cv_dataset.shape"
   ]
  },
  {
   "cell_type": "code",
   "execution_count": 8,
   "metadata": {},
   "outputs": [
    {
     "data": {
      "text/html": [
       "<div>\n",
       "<style scoped>\n",
       "    .dataframe tbody tr th:only-of-type {\n",
       "        vertical-align: middle;\n",
       "    }\n",
       "\n",
       "    .dataframe tbody tr th {\n",
       "        vertical-align: top;\n",
       "    }\n",
       "\n",
       "    .dataframe thead th {\n",
       "        text-align: right;\n",
       "    }\n",
       "</style>\n",
       "<table border=\"1\" class=\"dataframe\">\n",
       "  <thead>\n",
       "    <tr style=\"text-align: right;\">\n",
       "      <th></th>\n",
       "      <th>Person_id</th>\n",
       "      <th>Image1</th>\n",
       "      <th>Image2</th>\n",
       "      <th>Report</th>\n",
       "    </tr>\n",
       "  </thead>\n",
       "  <tbody>\n",
       "    <tr>\n",
       "      <th>0</th>\n",
       "      <td>Scanned Images/CXR3690_IM-1841_0</td>\n",
       "      <td>Scanned Images/CXR3690_IM-1841-1001.png</td>\n",
       "      <td>Scanned Images/CXR3690_IM-1841-2001.png</td>\n",
       "      <td>startseq the heart again enlarged .  aorta tor...</td>\n",
       "    </tr>\n",
       "    <tr>\n",
       "      <th>1</th>\n",
       "      <td>Scanned Images/CXR3691_IM-1842_0</td>\n",
       "      <td>Scanned Images/CXR3691_IM-1842-1001.png</td>\n",
       "      <td>Scanned Images/CXR3691_IM-1842-3003.png</td>\n",
       "      <td>startseq the heart normal size .  the mediasti...</td>\n",
       "    </tr>\n",
       "    <tr>\n",
       "      <th>2</th>\n",
       "      <td>Scanned Images/CXR3692_IM-1843_0</td>\n",
       "      <td>Scanned Images/CXR3692_IM-1843-1001.png</td>\n",
       "      <td>Scanned Images/CXR3692_IM-1843-2001.png</td>\n",
       "      <td>startseq stable cardiomediastinal silhouette ....</td>\n",
       "    </tr>\n",
       "    <tr>\n",
       "      <th>3</th>\n",
       "      <td>Scanned Images/CXR3693_IM-1844_0</td>\n",
       "      <td>Scanned Images/CXR3693_IM-1844-1001.png</td>\n",
       "      <td>Scanned Images/CXR3693_IM-1844-1002.png</td>\n",
       "      <td>startseq the lungs are clear bilaterally .  sp...</td>\n",
       "    </tr>\n",
       "    <tr>\n",
       "      <th>4</th>\n",
       "      <td>Scanned Images/CXR3694_IM-1845_0</td>\n",
       "      <td>Scanned Images/CXR3694_IM-1845-1001.png</td>\n",
       "      <td>Scanned Images/CXR3694_IM-1845-2001.png</td>\n",
       "      <td>startseq interval removal leftsided chest tube...</td>\n",
       "    </tr>\n",
       "  </tbody>\n",
       "</table>\n",
       "</div>"
      ],
      "text/plain": [
       "                          Person_id                                   Image1  \\\n",
       "0  Scanned Images/CXR3690_IM-1841_0  Scanned Images/CXR3690_IM-1841-1001.png   \n",
       "1  Scanned Images/CXR3691_IM-1842_0  Scanned Images/CXR3691_IM-1842-1001.png   \n",
       "2  Scanned Images/CXR3692_IM-1843_0  Scanned Images/CXR3692_IM-1843-1001.png   \n",
       "3  Scanned Images/CXR3693_IM-1844_0  Scanned Images/CXR3693_IM-1844-1001.png   \n",
       "4  Scanned Images/CXR3694_IM-1845_0  Scanned Images/CXR3694_IM-1845-1001.png   \n",
       "\n",
       "                                    Image2  \\\n",
       "0  Scanned Images/CXR3690_IM-1841-2001.png   \n",
       "1  Scanned Images/CXR3691_IM-1842-3003.png   \n",
       "2  Scanned Images/CXR3692_IM-1843-2001.png   \n",
       "3  Scanned Images/CXR3693_IM-1844-1002.png   \n",
       "4  Scanned Images/CXR3694_IM-1845-2001.png   \n",
       "\n",
       "                                              Report  \n",
       "0  startseq the heart again enlarged .  aorta tor...  \n",
       "1  startseq the heart normal size .  the mediasti...  \n",
       "2  startseq stable cardiomediastinal silhouette ....  \n",
       "3  startseq the lungs are clear bilaterally .  sp...  \n",
       "4  startseq interval removal leftsided chest tube...  "
      ]
     },
     "execution_count": 8,
     "metadata": {},
     "output_type": "execute_result"
    }
   ],
   "source": [
    "cv_dataset.head()"
   ]
  },
  {
   "cell_type": "code",
   "execution_count": 9,
   "metadata": {},
   "outputs": [],
   "source": [
    "pad_size = 153   # Max length"
   ]
  },
  {
   "cell_type": "code",
   "execution_count": 11,
   "metadata": {},
   "outputs": [],
   "source": [
    "X_train, X_test, X_cv = train_dataset['Person_id'], test_dataset['Person_id'], cv_dataset['Person_id'][:546]\n",
    "y_train, y_test, y_cv = train_dataset['Report'], test_dataset['Report'], cv_dataset['Report'][:546]"
   ]
  },
  {
   "cell_type": "code",
   "execution_count": 12,
   "metadata": {},
   "outputs": [],
   "source": [
    "tokenizer = Tokenizer(filters='!\"#$%&()*+,-/:;<=>?@[\\\\]^_`{|}~\\t\\n')\n",
    "tokenizer.fit_on_texts(y_train.values)"
   ]
  },
  {
   "cell_type": "code",
   "execution_count": 13,
   "metadata": {},
   "outputs": [
    {
     "name": "stdout",
     "output_type": "stream",
     "text": [
      "1 Physical GPUs, 1 Logical GPUs\n"
     ]
    }
   ],
   "source": [
    "gpus = tf.config.experimental.list_physical_devices('GPU')\n",
    "if gpus:\n",
    "  try:\n",
    "  \n",
    "    for gpu in gpus:\n",
    "      tf.config.experimental.set_memory_growth(gpu, True)\n",
    "    logical_gpus = tf.config.experimental.list_logical_devices('GPU')\n",
    "    print(len(gpus), \"Physical GPUs,\", len(logical_gpus), \"Logical GPUs\")\n",
    "  except RuntimeError as e:\n",
    "   \n",
    "    print(e)"
   ]
  },
  {
   "cell_type": "code",
   "execution_count": 14,
   "metadata": {},
   "outputs": [],
   "source": [
    "f = open('Image_features_enc-dec.pickle','rb') \n",
    "Xnet_Features = pickle.load(f)\n",
    "f.close()"
   ]
  },
  {
   "cell_type": "code",
   "execution_count": 15,
   "metadata": {},
   "outputs": [],
   "source": [
    "f = open('GLOVE_VECTORS.pickle','rb')  \n",
    "glove_vectors = pickle.load(f)\n",
    "f.close()"
   ]
  },
  {
   "cell_type": "code",
   "execution_count": 16,
   "metadata": {},
   "outputs": [],
   "source": [
    "vocab_size = len(tokenizer.word_index.keys()) + 1"
   ]
  },
  {
   "cell_type": "code",
   "execution_count": 17,
   "metadata": {},
   "outputs": [],
   "source": [
    "embedding_matrix = np.zeros((vocab_size,300))\n",
    "for word, i in tokenizer.word_index.items():\n",
    "    if word in glove_vectors.keys():\n",
    "        vec = glove_vectors[word]\n",
    "        embedding_matrix[i] = vec\n",
    "    else:\n",
    "        continue"
   ]
  },
  {
   "cell_type": "code",
   "execution_count": 18,
   "metadata": {},
   "outputs": [],
   "source": [
    "BATCH_SIZE = 14"
   ]
  },
  {
   "cell_type": "code",
   "execution_count": 19,
   "metadata": {},
   "outputs": [],
   "source": [
    "def load_image(id_, report):\n",
    "   \n",
    "    img_feature = Xnet_Features[id_.decode('utf-8')][0]\n",
    "    return img_feature, report"
   ]
  },
  {
   "cell_type": "code",
   "execution_count": 20,
   "metadata": {},
   "outputs": [],
   "source": [
    "def create_dataset(img_name, caption):\n",
    "  \n",
    "    dataset = tf.data.Dataset.from_tensor_slices((img_name, caption))\n",
    "\n",
    "  # Use map to load the numpy files in parallel\n",
    "    dataset = dataset.map(lambda item1, item2: tf.numpy_function(load_image, [item1, item2], [tf.float32, tf.string]),\n",
    "                          num_parallel_calls=tf.data.experimental.AUTOTUNE)\n",
    "\n",
    "  # Shuffle and batch\n",
    "    dataset = dataset.shuffle(500).batch(BATCH_SIZE).prefetch(buffer_size=tf.data.experimental.AUTOTUNE)\n",
    "    return dataset"
   ]
  },
  {
   "cell_type": "code",
   "execution_count": 21,
   "metadata": {},
   "outputs": [],
   "source": [
    "train_generator = create_dataset(X_train, y_train)\n",
    "cv_generator = create_dataset(X_cv, y_cv)"
   ]
  },
  {
   "cell_type": "code",
   "execution_count": 22,
   "metadata": {},
   "outputs": [],
   "source": [
    "def bytes_to_string(arr):\n",
    "   \n",
    "    for i in range(len(arr)):\n",
    "        arr[i] = arr[i].decode('utf-8')\n",
    "    return arr"
   ]
  },
  {
   "cell_type": "code",
   "execution_count": 23,
   "metadata": {},
   "outputs": [],
   "source": [
    "def convert(images, reports):\n",
    "    '''This function takes the batch of data and converts them into a new dataset(A WORD BY WORD DATASET)'''\n",
    "    imgs = []\n",
    "    in_reports = []\n",
    "    out_reports = []\n",
    "    for i in range(len(images)):\n",
    "        sequence = [tokenizer.word_index[e] for e in reports[i].split() if e in tokenizer.word_index.keys()]\n",
    "     \n",
    "        for j in range(1,len(sequence)):\n",
    "\n",
    "            in_seq = sequence[:j]\n",
    "            out_seq = sequence[j]\n",
    "            out_seq = tf.keras.utils.to_categorical(out_seq, num_classes=vocab_size)\n",
    "\n",
    "            imgs.append(images[i])\n",
    "       \n",
    "            in_reports.append(in_seq)\n",
    "       \n",
    "            out_reports.append(out_seq)\n",
    "        \n",
    "    return np.array(imgs), np.array(in_reports), np.array(out_reports)"
   ]
  },
  {
   "cell_type": "code",
   "execution_count": 24,
   "metadata": {},
   "outputs": [],
   "source": [
    "np.random.seed(42)\n",
    "\n",
    "\n",
    "tf.random.set_seed(32)\n",
    "\n",
    "random.seed(12)"
   ]
  },
  {
   "cell_type": "code",
   "execution_count": 25,
   "metadata": {},
   "outputs": [
    {
     "name": "stdout",
     "output_type": "stream",
     "text": [
      "Model: \"model\"\n",
      "__________________________________________________________________________________________________\n",
      "Layer (type)                    Output Shape         Param #     Connected to                     \n",
      "==================================================================================================\n",
      "Text_Input (InputLayer)         [(None, 153)]        0                                            \n",
      "__________________________________________________________________________________________________\n",
      "Embedding_layer (Embedding)     (None, 153, 300)     428100      Text_Input[0][0]                 \n",
      "__________________________________________________________________________________________________\n",
      "LSTM1 (LSTM)                    (None, 153, 256)     570368      Embedding_layer[0][0]            \n",
      "__________________________________________________________________________________________________\n",
      "Image_1 (InputLayer)            [(None, 2048)]       0                                            \n",
      "__________________________________________________________________________________________________\n",
      "LSTM2 (LSTM)                    (None, 256)          525312      LSTM1[0][0]                      \n",
      "__________________________________________________________________________________________________\n",
      "dense_encoder (Dense)           (None, 256)          524544      Image_1[0][0]                    \n",
      "__________________________________________________________________________________________________\n",
      "dropout1 (Dropout)              (None, 256)          0           LSTM2[0][0]                      \n",
      "__________________________________________________________________________________________________\n",
      "add (Add)                       (None, 256)          0           dense_encoder[0][0]              \n",
      "                                                                 dropout1[0][0]                   \n",
      "__________________________________________________________________________________________________\n",
      "fc1 (Dense)                     (None, 256)          65792       add[0][0]                        \n",
      "__________________________________________________________________________________________________\n",
      "dropout2 (Dropout)              (None, 256)          0           fc1[0][0]                        \n",
      "__________________________________________________________________________________________________\n",
      "Output_layer (Dense)            (None, 1427)         366739      dropout2[0][0]                   \n",
      "==================================================================================================\n",
      "Total params: 2,480,855\n",
      "Trainable params: 2,052,755\n",
      "Non-trainable params: 428,100\n",
      "__________________________________________________________________________________________________\n"
     ]
    }
   ],
   "source": [
    "input1 = Input(shape=(2048), name='Image_1')\n",
    "dense1 = Dense(256, kernel_initializer=tf.keras.initializers.glorot_uniform(seed = 56), name='dense_encoder')(input1)\n",
    "\n",
    "input2 = Input(shape=(153), name='Text_Input')\n",
    "emb_layer = Embedding(input_dim = vocab_size, output_dim = 300, input_length=153, mask_zero=True, trainable=False, \n",
    "                weights=[embedding_matrix], name=\"Embedding_layer\")\n",
    "emb = emb_layer(input2)\n",
    "\n",
    "LSTM1 = LSTM(units=256, activation='tanh', recurrent_activation='sigmoid', use_bias=True, \n",
    "            kernel_initializer=tf.keras.initializers.glorot_uniform(seed=23),\n",
    "            recurrent_initializer=tf.keras.initializers.orthogonal(seed=7),\n",
    "            bias_initializer=tf.keras.initializers.zeros(), return_sequences=True, name=\"LSTM1\")(emb)\n",
    "\n",
    "\n",
    "LSTM2 = LSTM(units=256, activation='tanh', recurrent_activation='sigmoid', use_bias=True, \n",
    "            kernel_initializer=tf.keras.initializers.glorot_uniform(seed=23),\n",
    "            recurrent_initializer=tf.keras.initializers.orthogonal(seed=7),\n",
    "            bias_initializer=tf.keras.initializers.zeros(), name=\"LSTM2\")\n",
    "LSTM2_output = LSTM2(LSTM1)\n",
    "\n",
    "dropout1 = Dropout(0.5, name='dropout1')(LSTM2_output)\n",
    "\n",
    "dec =  tf.keras.layers.Add()([dense1, dropout1])\n",
    "\n",
    "fc1 = Dense(256, activation='relu', kernel_initializer=tf.keras.initializers.he_normal(seed = 63), name='fc1')\n",
    "fc1_output = fc1(dec)\n",
    "dropout2 = Dropout(0.4, name='dropout2')(fc1_output)\n",
    "output_layer = Dense(vocab_size, activation='softmax', name='Output_layer')\n",
    "output = output_layer(dropout2)\n",
    "\n",
    "encoder_decoder = Model(inputs = [input1, input2], outputs = output)\n",
    "encoder_decoder.summary()"
   ]
  },
  {
   "cell_type": "code",
   "execution_count": 26,
   "metadata": {},
   "outputs": [
    {
     "data": {
      "image/png": "[encoded data removed]",
      "text/plain": [
       "<IPython.core.display.Image object>"
      ]
     },
     "execution_count": 26,
     "metadata": {},
     "output_type": "execute_result"
    }
   ],
   "source": [
    "tf.keras.utils.plot_model(encoder_decoder)"
   ]
  },
  {
   "cell_type": "code",
   "execution_count": 56,
   "metadata": {},
   "outputs": [],
   "source": [
    "optimizer = tf.keras.optimizers.Adam(0.001)"
   ]
  },
  {
   "cell_type": "code",
   "execution_count": 57,
   "metadata": {},
   "outputs": [],
   "source": [
    "loss_function = tf.keras.losses.CategoricalCrossentropy(from_logits=False, reduction='auto')\n",
    "\n",
    "def maskedLoss(y_true, y_pred):\n",
    "    #getting mask value\n",
    "    mask = tf.math.logical_not(tf.math.equal(y_true, 0))\n",
    "    \n",
    "    #calculating the loss\n",
    "    loss_ = loss_function(y_true, y_pred)\n",
    "    \n",
    "    #converting mask dtype to loss_ dtype\n",
    "    mask = tf.cast(mask, dtype=loss_.dtype)\n",
    "    \n",
    "    #applying the mask to loss\n",
    "    loss_ = loss_*mask\n",
    "    \n",
    "    #getting mean over all the values\n",
    "    loss_ = tf.reduce_mean(loss_)\n",
    "    return loss_"
   ]
  },
  {
   "cell_type": "code",
   "execution_count": 58,
   "metadata": {},
   "outputs": [],
   "source": [
    "encoder_decoder.compile(optimizer, loss = maskedLoss)"
   ]
  },
  {
   "cell_type": "code",
   "execution_count": 59,
   "metadata": {},
   "outputs": [],
   "source": [
    "current_time = datetime.datetime.now().strftime(\"%Y%m%d-%H%M%S\")\n",
    "train_log_dir = 'Tensorboard/logs_m1/fit3/' + current_time + '/train'\n",
    "val_log_dir = 'Tensorboard/logs_m1/fit3/' + current_time + '/test'\n",
    "train_summary_writer = tf.summary.create_file_writer(train_log_dir)\n",
    "val_summary_writer = tf.summary.create_file_writer(val_log_dir)"
   ]
  },
  {
   "cell_type": "markdown",
   "metadata": {},
   "source": [
    "## Training for epochs 1-20"
   ]
  },
  {
   "cell_type": "code",
   "execution_count": 60,
   "metadata": {
    "scrolled": true
   },
   "outputs": [
    {
     "name": "stdout",
     "output_type": "stream",
     "text": [
      "EPOCH :  1\n",
      "Training Loss: 0.003326163182819858,  Val Loss: 0.0029444520194561053\n",
      "Time Taken for this Epoch : 95.27918720245361 sec\n",
      "EPOCH :  2\n",
      "Training Loss: 0.0026811409746367617,  Val Loss: 0.0022076617878599046\n",
      "Time Taken for this Epoch : 42.68967032432556 sec\n",
      "EPOCH :  3\n",
      "Training Loss: 0.0020950774651559705,  Val Loss: 0.0018281425403144497\n",
      "Time Taken for this Epoch : 42.113810777664185 sec\n",
      "EPOCH :  4\n",
      "Training Loss: 0.0018133486320883944,  Val Loss: 0.0016427363585441923\n",
      "Time Taken for this Epoch : 42.319337368011475 sec\n",
      "EPOCH :  5\n",
      "Training Loss: 0.0016522072882008583,  Val Loss: 0.0015351673026975149\n",
      "Time Taken for this Epoch : 42.39927816390991 sec\n",
      "EPOCH :  6\n",
      "Training Loss: 0.0015360610612767376,  Val Loss: 0.0014780913658726674\n",
      "Time Taken for this Epoch : 42.14148163795471 sec\n",
      "EPOCH :  7\n",
      "Training Loss: 0.0014560442328627981,  Val Loss: 0.0014122874022294313\n",
      "Time Taken for this Epoch : 42.032474994659424 sec\n",
      "EPOCH :  8\n",
      "Training Loss: 0.0013832337344727161,  Val Loss: 0.0013618461447409713\n",
      "Time Taken for this Epoch : 43.95109558105469 sec\n",
      "EPOCH :  9\n",
      "Training Loss: 0.0013302229761458025,  Val Loss: 0.0013449327745594275\n",
      "Time Taken for this Epoch : 42.437591552734375 sec\n",
      "EPOCH :  10\n",
      "Training Loss: 0.0012617370912682284,  Val Loss: 0.0013189059503089923\n",
      "Time Taken for this Epoch : 43.67634463310242 sec\n",
      "EPOCH :  11\n",
      "Training Loss: 0.0012252702295595809,  Val Loss: 0.0012957592635081173\n",
      "Time Taken for this Epoch : 41.95561599731445 sec\n",
      "EPOCH :  12\n",
      "Training Loss: 0.00117902072066167,  Val Loss: 0.0012745878432328121\n",
      "Time Taken for this Epoch : 41.89181160926819 sec\n",
      "EPOCH :  13\n",
      "Training Loss: 0.0011420666377844884,  Val Loss: 0.0013052788055621278\n",
      "Time Taken for this Epoch : 41.988359212875366 sec\n",
      "EPOCH :  14\n",
      "Training Loss: 0.0011051446373744626,  Val Loss: 0.0012888135672069322\n",
      "Time Taken for this Epoch : 43.324047803878784 sec\n",
      "EPOCH :  15\n",
      "Training Loss: 0.001067579257642368,  Val Loss: 0.0012901094309293116\n",
      "Time Taken for this Epoch : 42.04645824432373 sec\n",
      "EPOCH :  16\n",
      "Training Loss: 0.0010411164095166711,  Val Loss: 0.0012752430465741034\n",
      "Time Taken for this Epoch : 41.9104323387146 sec\n",
      "EPOCH :  17\n",
      "Training Loss: 0.001009981231563039,  Val Loss: 0.0012831409784177174\n",
      "Time Taken for this Epoch : 42.05843424797058 sec\n",
      "EPOCH :  18\n",
      "Training Loss: 0.0009750409984280389,  Val Loss: 0.001270358041764643\n",
      "Time Taken for this Epoch : 42.10573697090149 sec\n",
      "EPOCH :  19\n",
      "Training Loss: 0.0009519769310795225,  Val Loss: 0.00128704755125233\n",
      "Time Taken for this Epoch : 42.53537368774414 sec\n",
      "EPOCH :  20\n",
      "Training Loss: 0.0009294417999959007,  Val Loss: 0.0013094604543696803\n",
      "Time Taken for this Epoch : 42.49462938308716 sec\n"
     ]
    }
   ],
   "source": [
    "epoch_train_loss = []\n",
    "epoch_val_loss = []\n",
    "\n",
    "for epoch in range(20):\n",
    "    print('EPOCH : ',epoch+1)\n",
    "    start = time.time()\n",
    "    batch_loss_tr = 0\n",
    "    batch_loss_vl = 0\n",
    "    \n",
    "    for img, report in train_generator:\n",
    "       \n",
    "        r1 = bytes_to_string(report.numpy())\n",
    "        img_input, rep_input, output_word = convert(img.numpy(), r1)\n",
    "        rep_input = pad_sequences(rep_input, maxlen=153, padding='post')\n",
    "        results = encoder_decoder.train_on_batch([img_input, rep_input], output_word)\n",
    "        \n",
    "        batch_loss_tr += results\n",
    "\n",
    "    train_loss = batch_loss_tr/(X_train.shape[0]//14)\n",
    " #   print('Saving Tensorboard')\n",
    "    with train_summary_writer.as_default():\n",
    "        tf.summary.scalar('loss', train_loss, step = epoch)\n",
    "    \n",
    "    for img, report in cv_generator:\n",
    "        \n",
    "        r1 = bytes_to_string(report.numpy())\n",
    "        img_input, rep_input, output_word = convert(img.numpy(), r1)\n",
    "        rep_input = pad_sequences(rep_input, maxlen=153, padding='post')\n",
    "        results = encoder_decoder.test_on_batch([img_input, rep_input], output_word)\n",
    "        batch_loss_vl += results\n",
    "    \n",
    "    val_loss = batch_loss_vl/(X_cv.shape[0]//14)\n",
    "    \n",
    "    with val_summary_writer.as_default():\n",
    "        tf.summary.scalar('loss', val_loss, step = epoch)\n",
    "\n",
    "    epoch_train_loss.append(train_loss)\n",
    "\n",
    "    epoch_val_loss.append(val_loss)\n",
    "    \n",
    "    print('Training Loss: {},  Val Loss: {}'.format(train_loss, val_loss))\n",
    "    print('Time Taken for this Epoch : {} sec'.format(time.time()-start))   \n",
    "    encoder_decoder.save_weights('Weights_re/encoder_decoder_epoch_'+ str(epoch+1) + '.h5')"
   ]
  },
  {
   "cell_type": "code",
   "execution_count": 27,
   "metadata": {},
   "outputs": [],
   "source": [
    "encoder_decoder.load_weights('Weights_re/encoder_decoder_epoch_20.h5')"
   ]
  },
  {
   "cell_type": "markdown",
   "metadata": {},
   "source": []
  },
  {
   "cell_type": "code",
   "execution_count": 30,
   "metadata": {},
   "outputs": [],
   "source": [
    "# encoder\n",
    "encoder_input = encoder_decoder.input[0]\n",
    "encoder_output = encoder_decoder.get_layer('dense_encoder').output\n",
    "encoder_model = Model(encoder_input, encoder_output)\n",
    "\n",
    "# decoder# \n",
    "text_input = encoder_decoder.input[1]\n",
    "enc_output = Input(shape=(256,), name='Enc_Output')\n",
    "text_output = encoder_decoder.get_layer('LSTM2').output\n",
    "add1 = tf.keras.layers.Add()([text_output, enc_output])\n",
    "fc_1 = fc1(add1)\n",
    "decoder_output = output_layer(fc_1)\n",
    "\n",
    "decoder_model = Model(inputs = [text_input, enc_output], outputs = decoder_output)"
   ]
  },
  {
   "cell_type": "markdown",
   "metadata": {},
   "source": [
    "### Greedy Search"
   ]
  },
  {
   "cell_type": "code",
   "execution_count": 62,
   "metadata": {},
   "outputs": [],
   "source": [
    "def greedysearch(img):\n",
    "    image = Xnet_Features[img]\n",
    "    input_ = 'startseq'\n",
    "    image_features = encoder_model.predict(image)\n",
    "    \n",
    "    result = []\n",
    "    for i in range(153):\n",
    "        input_tok = [tokenizer.word_index[w] for w in input_.split()]\n",
    "        input_padded = pad_sequences([input_tok], 153, padding='post')\n",
    "        predictions = decoder_model.predict([input_padded, image_features])\n",
    "        arg = np.argmax(predictions)\n",
    "        if arg != 7:   # endseq\n",
    "            result.append(tokenizer.index_word[arg])\n",
    "            input_ = input_ + ' ' + tokenizer.index_word[arg]\n",
    "        else:\n",
    "            break\n",
    "    rep = ' '.join(e for e in result)\n",
    "    return rep"
   ]
  },
  {
   "cell_type": "markdown",
   "metadata": {},
   "source": [
    "# Eg: 1"
   ]
  },
  {
   "cell_type": "code",
   "execution_count": 74,
   "metadata": {},
   "outputs": [
    {
     "data": {
      "text/plain": [
       "'the heart size and mediastinal contours appear within normal limits . pulmonary vascularity within normal limits . no focal consolidation pleural effusion pneumothora identified . no acute bony abnormality .'"
      ]
     },
     "execution_count": 74,
     "metadata": {},
     "output_type": "execute_result"
    }
   ],
   "source": [
    "res36 = greedysearch(X_cv.values[36]) # Generated result\n",
    "res36"
   ]
  },
  {
   "cell_type": "code",
   "execution_count": 75,
   "metadata": {},
   "outputs": [
    {
     "data": {
      "text/plain": [
       "'startseq the lungs are clear .  heart size normal .  no pneumothora .  endseq'"
      ]
     },
     "execution_count": 75,
     "metadata": {},
     "output_type": "execute_result"
    }
   ],
   "source": [
    "y_cv.values[36]  # original"
   ]
  },
  {
   "cell_type": "markdown",
   "metadata": {},
   "source": [
    "# Eg: 2"
   ]
  },
  {
   "cell_type": "code",
   "execution_count": 77,
   "metadata": {},
   "outputs": [
    {
     "data": {
      "text/plain": [
       "'the heart size and pulmonary vascularity appear within normal limits . the lungs are free focal airspace disease . no pleural effusion pneumothora seen .'"
      ]
     },
     "execution_count": 77,
     "metadata": {},
     "output_type": "execute_result"
    }
   ],
   "source": [
    "res72 = greedysearch(X_cv.values[72]) # Generated result\n",
    "res72"
   ]
  },
  {
   "cell_type": "code",
   "execution_count": 78,
   "metadata": {},
   "outputs": [
    {
     "data": {
      "text/plain": [
       "'startseq the heart size and pulmonary vascularity appear within normal limits .  the lungs are free focal airspace disease .  no pleural effusion pneumothora seen .  no noncalcified nodules are identified .  endseq'"
      ]
     },
     "execution_count": 78,
     "metadata": {},
     "output_type": "execute_result"
    }
   ],
   "source": [
    "y_cv.values[72] # original"
   ]
  },
  {
   "cell_type": "markdown",
   "metadata": {},
   "source": [
    "# Eg: 3"
   ]
  },
  {
   "cell_type": "code",
   "execution_count": 79,
   "metadata": {},
   "outputs": [
    {
     "data": {
      "text/plain": [
       "'the heart size and pulmonary vascularity appear within normal limits . the lungs are free focal airspace disease . no pleural effusion pneumothora seen .'"
      ]
     },
     "execution_count": 79,
     "metadata": {},
     "output_type": "execute_result"
    }
   ],
   "source": [
    "res108 = greedysearch(X_cv.values[108])  # Generated result\n",
    "res108"
   ]
  },
  {
   "cell_type": "code",
   "execution_count": 80,
   "metadata": {},
   "outputs": [
    {
     "data": {
      "text/plain": [
       "'startseq the heart normal size .  the pulmonary vascularity within normal limits appearance .  no pneumothora pleural effusion .  patchy right lower lung opacification noted .  endseq'"
      ]
     },
     "execution_count": 80,
     "metadata": {},
     "output_type": "execute_result"
    }
   ],
   "source": [
    "y_cv.values[108] # original"
   ]
  },
  {
   "cell_type": "markdown",
   "metadata": {},
   "source": [
    "# Eg: 4"
   ]
  },
  {
   "cell_type": "code",
   "execution_count": 82,
   "metadata": {},
   "outputs": [
    {
     "data": {
      "text/plain": [
       "'the heart size and pulmonary vascularity appear within normal limits . the lungs are free focal airspace disease . no pleural effusion pneumothora seen .'"
      ]
     },
     "execution_count": 82,
     "metadata": {},
     "output_type": "execute_result"
    }
   ],
   "source": [
    "res37 = greedysearch(X_train.values[37])  # Generated result\n",
    "res37"
   ]
  },
  {
   "cell_type": "code",
   "execution_count": 83,
   "metadata": {},
   "outputs": [
    {
     "data": {
      "text/plain": [
       "'startseq the cardiomediastinal silhouette and pulmonary vasculature are within normal limits .  there no pneumothora pleural effusion .  there are no focal areas consolidation .  there are calcifications projecting the left midlung unchanged from prior this sequela prior granulomatous disease .  there are small tspine osteophytes .  endseq'"
      ]
     },
     "execution_count": 83,
     "metadata": {},
     "output_type": "execute_result"
    }
   ],
   "source": [
    "y_train.values[37] # original"
   ]
  },
  {
   "cell_type": "markdown",
   "metadata": {},
   "source": [
    "# Eg: 5"
   ]
  },
  {
   "cell_type": "code",
   "execution_count": 85,
   "metadata": {},
   "outputs": [
    {
     "data": {
      "text/plain": [
       "'the heart size and pulmonary vascularity appear within normal limits . the lungs are free focal airspace disease . no pleural effusion pneumothora seen .'"
      ]
     },
     "execution_count": 85,
     "metadata": {},
     "output_type": "execute_result"
    }
   ],
   "source": [
    "res0 = greedysearch(X_train.values[0]) # Generated result\n",
    "res0"
   ]
  },
  {
   "cell_type": "code",
   "execution_count": 87,
   "metadata": {},
   "outputs": [
    {
     "data": {
      "text/plain": [
       "'startseq the cardiac silhouette and mediastinum size are within normal limits .  there no pulmonary edema .  there no focal consolidation .  there are no pleural effusion .  there no evidence pneumothora .  endseq'"
      ]
     },
     "execution_count": 87,
     "metadata": {},
     "output_type": "execute_result"
    }
   ],
   "source": [
    "y_train.values[0] # original"
   ]
  },
  {
   "cell_type": "markdown",
   "metadata": {},
   "source": [
    "## BLEU SCORE"
   ]
  },
  {
   "cell_type": "code",
   "execution_count": 98,
   "metadata": {},
   "outputs": [],
   "source": [
    "def rem_fullstops(text):\n",
    "    '''Removes punctuations'''\n",
    "    punctuations = '''.''' \n",
    "    new_text = []\n",
    "    for char in text:\n",
    "        if char in punctuations: \n",
    "            text = text.replace(char, \"\")\n",
    "    new_text.append(' '.join(e for e in text.split()))\n",
    "    return new_text[0]"
   ]
  },
  {
   "cell_type": "markdown",
   "metadata": {},
   "source": [
    "## CV BLEU"
   ]
  },
  {
   "cell_type": "code",
   "execution_count": 99,
   "metadata": {},
   "outputs": [
    {
     "name": "stderr",
     "output_type": "stream",
     "text": [
      "546it [07:07,  1.28it/s]\n"
     ]
    }
   ],
   "source": [
    "bleu1 = []\n",
    "bleu2 = []\n",
    "bleu3 = []\n",
    "bleu4 = []\n",
    "for img, rep in tqdm(zip(X_cv.values, y_cv.values)):\n",
    "    \n",
    "    rep = rem_fullstops(rep)\n",
    "    rep = rep.split()[1:]\n",
    "    rep = rep[:len(rep)-1]\n",
    "    rep = ' '.join(e for e in rep)\n",
    "    \n",
    "    pred_rep = greedysearch(img)\n",
    "    pred_rep = rem_fullstops(pred_rep)\n",
    "    \n",
    "    bleu1.append(sentence_bleu([rep.split()], pred_rep.split(), weights = (1,0,0,0)))\n",
    "    bleu2.append(sentence_bleu([rep.split()], pred_rep.split(), weights = (0.5,0.5,0,0)))\n",
    "    bleu3.append(sentence_bleu([rep.split()], pred_rep.split(), weights = (0.33,0.33,0.33,0)))\n",
    "    bleu4.append(sentence_bleu([rep.split()], pred_rep.split(), weights = (0.25,0.25,0.25,0.25)))"
   ]
  },
  {
   "cell_type": "code",
   "execution_count": 101,
   "metadata": {},
   "outputs": [
    {
     "name": "stdout",
     "output_type": "stream",
     "text": [
      "Bleu1 Score:  0.3300338662017445\n",
      "Bleu2 Score:  0.2078214228248296\n",
      "Bleu3 Score:  0.12100037284585875\n",
      "Bleu4 Score:  0.04276169898014262\n"
     ]
    }
   ],
   "source": [
    "print('Bleu1 Score: ', sum(bleu1)/X_cv.shape[0])\n",
    "print('Bleu2 Score: ', sum(bleu2)/X_cv.shape[0])\n",
    "print('Bleu3 Score: ', sum(bleu3)/X_cv.shape[0])\n",
    "print('Bleu4 Score: ', sum(bleu4)/X_cv.shape[0])"
   ]
  },
  {
   "cell_type": "markdown",
   "metadata": {},
   "source": [
    "## Test BLEU"
   ]
  },
  {
   "cell_type": "code",
   "execution_count": 67,
   "metadata": {},
   "outputs": [
    {
     "name": "stderr",
     "output_type": "stream",
     "text": [
      "399it [06:35,  1.01it/s]\n"
     ]
    }
   ],
   "source": [
    "bleu1 = []\n",
    "bleu2 = []\n",
    "bleu3 = []\n",
    "bleu4 = []\n",
    "for img, rep in tqdm(zip(X_test.values, y_test.values)):\n",
    "    \n",
    "    rep = rem_fullstops(rep)\n",
    "    rep = rep.split()[1:]\n",
    "    rep = rep[:len(rep)-1]\n",
    "    rep = ' '.join(e for e in rep)\n",
    "    \n",
    "    pred_rep = greedysearch(img)\n",
    "    pred_rep = rem_fullstops(pred_rep)\n",
    "    \n",
    "    bleu1.append(sentence_bleu([rep.split()], pred_rep.split(), weights = (1,0,0,0)))\n",
    "    bleu2.append(sentence_bleu([rep.split()], pred_rep.split(), weights = (0.5,0.5,0,0)))\n",
    "    bleu3.append(sentence_bleu([rep.split()], pred_rep.split(), weights = (0.33,0.33,0.33,0)))\n",
    "    bleu4.append(sentence_bleu([rep.split()], pred_rep.split(), weights = (0.25,0.25,0.25,0.25)))"
   ]
  },
  {
   "cell_type": "code",
   "execution_count": 68,
   "metadata": {},
   "outputs": [
    {
     "name": "stdout",
     "output_type": "stream",
     "text": [
      "Bleu1 Score:  0.3440858945560657\n",
      "Bleu2 Score:  0.21814823127504135\n",
      "Bleu3 Score:  0.12983146064760928\n",
      "Bleu4 Score:  0.053968944497224\n"
     ]
    }
   ],
   "source": [
    "print('Bleu1 Score: ', sum(bleu1)/X_test.shape[0])\n",
    "print('Bleu2 Score: ', sum(bleu2)/X_test.shape[0])\n",
    "print('Bleu3 Score: ', sum(bleu3)/X_test.shape[0])\n",
    "print('Bleu4 Score: ', sum(bleu4)/X_test.shape[0])"
   ]
  },
  {
   "cell_type": "markdown",
   "metadata": {},
   "source": []
  },
  {
   "cell_type": "code",
   "execution_count": 36,
   "metadata": {},
   "outputs": [],
   "source": [
    "def beamsearch(image, beam_width):\n",
    "    \n",
    "    start = [tokenizer.word_index['startseq']]\n",
    "\n",
    "    sequences = [[start, 0]]\n",
    "    \n",
    "    img_features = Xnet_Features[image]\n",
    "    img_features = encoder_model.predict(img_features)\n",
    "    finished_seq = []\n",
    "    \n",
    "    for i in range(153):\n",
    "        all_candidates = []\n",
    "        new_seq = []\n",
    "        for s in sequences:\n",
    "\n",
    "            text_input = pad_sequences([s[0]], 153, padding='post')\n",
    "            predictions = decoder_model.predict([text_input,img_features])\n",
    "            top_words = np.argsort(predictions[0])[-beam_width:]\n",
    "            seq, score = s\n",
    "            \n",
    "            for t in top_words:\n",
    "                candidates = [seq + [t], score - np.log(predictions[0][t])]\n",
    "                all_candidates.append(candidates)\n",
    "                \n",
    "        sequences = sorted(all_candidates, key = lambda l: l[1])[:beam_width]\n",
    "        # checks for 'endseq' in each seq in the beam\n",
    "        count = 0\n",
    "        for seq,score in sequences:\n",
    "            if seq[len(seq)-1] == tokenizer.word_index['endseq']:\n",
    "                score = score/len(seq)   # normalized\n",
    "                finished_seq.append([seq, score])\n",
    "                count+=1\n",
    "            else:\n",
    "                new_seq.append([seq, score])\n",
    "        beam_width -= count\n",
    "        sequences = new_seq\n",
    "        \n",
    "        # if all the sequences reaches its end before 155 timesteps\n",
    "        if not sequences:\n",
    "            break\n",
    "        else:\n",
    "            continue\n",
    "        \n",
    "    sequences = finished_seq[-1] \n",
    "    rep = sequences[0]\n",
    "    score = sequences[1]\n",
    "    temp = []\n",
    "    rep.pop(0)\n",
    "    for word in rep:\n",
    "        if word != tokenizer.word_index['endseq']:\n",
    "            temp.append(tokenizer.index_word[word])\n",
    "        else:\n",
    "            break    \n",
    "    rep = ' '.join(e for e in temp)        \n",
    "    \n",
    "    return rep, score"
   ]
  },
  {
   "cell_type": "code",
   "execution_count": 37,
   "metadata": {},
   "outputs": [
    {
     "data": {
      "text/plain": [
       "('the cardiomediastinal silhouette and pulmonary vasculature are within normal limits size . the lungs are clear focal airspace disease pneumothora pleural effusion . there are no acute bony findings .',\n",
       " 0.17186643741274565)"
      ]
     },
     "execution_count": 37,
     "metadata": {},
     "output_type": "execute_result"
    }
   ],
   "source": [
    "res0 = beamsearch(X_cv.values[0], 5) # beam_width = 5 \n",
    "res0"
   ]
  },
  {
   "cell_type": "code",
   "execution_count": 40,
   "metadata": {},
   "outputs": [
    {
     "data": {
      "text/plain": [
       "('the cardiomediastinal silhouette and pulmonary vasculature are within normal limits size . the lungs are clear focal airspace disease pneumothora pleural effusion . there are no acute bony findings .',\n",
       " 0.17186643741274565)"
      ]
     },
     "execution_count": 40,
     "metadata": {},
     "output_type": "execute_result"
    }
   ],
   "source": [
    "res0 = beamsearch(X_cv.values[0], 7)  # beam_width = 7\n",
    "res0"
   ]
  },
  {
   "cell_type": "code",
   "execution_count": 42,
   "metadata": {},
   "outputs": [
    {
     "data": {
      "text/plain": [
       "'startseq the heart again enlarged .  aorta tortuous .  the lungs are hypoinflated but clear .  no pleural effusion pneumothora seen .  endseq'"
      ]
     },
     "execution_count": 42,
     "metadata": {},
     "output_type": "execute_result"
    }
   ],
   "source": [
    "y_cv.values[0]  # original"
   ]
  }
 ],
 "metadata": {
  "kernelspec": {
   "display_name": "Python 3 (ipykernel)",
   "language": "python",
   "name": "python3"
  },
  "language_info": {
   "codemirror_mode": {
    "name": "ipython",
    "version": 3
   },
   "file_extension": ".py",
   "mimetype": "text/x-python",
   "name": "python",
   "nbconvert_exporter": "python",
   "pygments_lexer": "ipython3",
   "version": "3.9.12"
  }
 },
 "nbformat": 4,
 "nbformat_minor": 4
}
